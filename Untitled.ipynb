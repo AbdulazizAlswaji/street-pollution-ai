{
 "cells": [
  {
   "cell_type": "code",
   "execution_count": null,
   "id": "933d2d80",
   "metadata": {},
   "outputs": [],
   "source": []
  },
  {
   "cell_type": "code",
   "execution_count": 25,
   "id": "4384ee9b",
   "metadata": {},
   "outputs": [],
   "source": [
    "import os\n",
    "import glob\n",
    "import pandas as pd\n",
    "import shutil"
   ]
  },
  {
   "cell_type": "code",
   "execution_count": null,
   "id": "3477c707",
   "metadata": {},
   "outputs": [],
   "source": []
  },
  {
   "cell_type": "markdown",
   "id": "258697f4",
   "metadata": {},
   "source": [
    "# Split tarin & test images"
   ]
  },
  {
   "cell_type": "code",
   "execution_count": 27,
   "id": "4f1fa6d2",
   "metadata": {},
   "outputs": [],
   "source": [
    "train_df = pd.read_csv('./raw/train.csv')\n",
    "test_df = pd.read_csv('./raw/test.csv')\n",
    "\n",
    "\n",
    "images_dir = './raw/images'\n",
    "train_dir = './dataset/train/images'\n",
    "test_dir = './dataset/test/images'\n",
    "\n",
    "if os.path.exists(train_dir):\n",
    "    shutil.rmtree(train_dir)\n",
    "\n",
    "os.mkdir(train_dir)\n",
    "\n",
    "for image in train_df.image_path.unique():\n",
    "    shutil.copyfile(os.path.join(images_dir, image), os.path.join(train_dir, image))\n",
    "    \n",
    "\n",
    "if os.path.exists(test_dir):\n",
    "    shutil.rmtree(test_dir)\n",
    "\n",
    "os.mkdir(test_dir)\n",
    "\n",
    "for image in test_df.image_path.unique():\n",
    "    shutil.copyfile(os.path.join(images_dir, image), os.path.join(test_dir, image))"
   ]
  },
  {
   "cell_type": "code",
   "execution_count": null,
   "id": "d4ebbe2b",
   "metadata": {},
   "outputs": [],
   "source": []
  }
 ],
 "metadata": {
  "kernelspec": {
   "display_name": "Python 3 (ipykernel)",
   "language": "python",
   "name": "python3"
  },
  "language_info": {
   "codemirror_mode": {
    "name": "ipython",
    "version": 3
   },
   "file_extension": ".py",
   "mimetype": "text/x-python",
   "name": "python",
   "nbconvert_exporter": "python",
   "pygments_lexer": "ipython3",
   "version": "3.9.13"
  }
 },
 "nbformat": 4,
 "nbformat_minor": 5
}
