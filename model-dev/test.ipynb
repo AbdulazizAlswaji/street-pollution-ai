{
 "cells": [
  {
   "cell_type": "markdown",
   "id": "a8e26a34-13ab-4942-b5c3-58c67c86ab28",
   "metadata": {},
   "source": [
    "# Imports"
   ]
  },
  {
   "cell_type": "code",
   "execution_count": null,
   "id": "ccfa0e06-9a5f-4465-a6cf-f30f073d175d",
   "metadata": {},
   "outputs": [],
   "source": [
    "import torch\n",
    "import pandas as pd\n",
    "import os"
   ]
  },
  {
   "cell_type": "code",
   "execution_count": null,
   "id": "94a39315-70a7-4d5a-ba11-133b7d5c3cce",
   "metadata": {},
   "outputs": [],
   "source": []
  },
  {
   "cell_type": "code",
   "execution_count": 9,
   "id": "97e274a2-dcd8-4df0-8fcd-eab8792ceaf4",
   "metadata": {},
   "outputs": [],
   "source": [
    "images_dir = './raw/images'\n",
    "train_dir = './dataset/train/images'\n",
    "val_dir = './dataset/val/images'\n",
    "test_dir = './dataset/test/images'\n",
    "test_df = pd.read_csv('./raw/test.csv')"
   ]
  },
  {
   "cell_type": "markdown",
   "id": "50518d68-7abe-4018-bb3a-0bde5ee11066",
   "metadata": {},
   "source": [
    "# Detection"
   ]
  },
  {
   "cell_type": "code",
   "execution_count": 11,
   "id": "d0e24ee7-b6ff-471e-a832-e7eac865e72b",
   "metadata": {},
   "outputs": [],
   "source": [
    "#!python yolov5/detect.py --weights yolov5/runs/train/exp2/weights/best.pt --img 640 --conf 0.4 --source dataset/test/images"
   ]
  },
  {
   "cell_type": "code",
   "execution_count": 175,
   "id": "f48af683-aa0b-4c7d-bcb6-f330c288b8b6",
   "metadata": {},
   "outputs": [
    {
     "name": "stderr",
     "output_type": "stream",
     "text": [
      "YOLOv5 🚀 v7.0-71-gc442a2e Python-3.8.10 torch-1.13.1+cu117 CUDA:0 (NVIDIA A100-SXM4-40GB, 40396MiB)\n",
      "\n",
      "Fusing layers... \n",
      "Model summary: 322 layers, 86240704 parameters, 0 gradients, 204.0 GFLOPs\n",
      "Adding AutoShape... \n"
     ]
    }
   ],
   "source": [
    "#os.mkdir('outputs')\n",
    "\n",
    "weight_path = 'yolov5/runs/train/exp2/weights/best.pt'\n",
    "model = torch.hub.load('yolov5', 'custom', path=weight_path, source='local')\n",
    "final_output = pd.DataFrame()\n",
    "\n",
    "#model.conf = 0.6\n",
    "\n",
    "for image in test_df.image_path.unique():\n",
    "    image_path = os.path.join(test_dir,image)\n",
    "    results = model(image_path)\n",
    "    output = results.pandas().xyxy[0]\n",
    "    output['image_path'] = image\n",
    "    final_output = pd.concat([final_output, output])\n",
    "\n",
    "final_output.to_csv('./outputs/results_conf_shuffil.csv', index=False, encoding='utf-8-sig')"
   ]
  },
  {
   "cell_type": "markdown",
   "id": "b9dae23b-2c47-49d7-a31a-211f54f2cab4",
   "metadata": {},
   "source": [
    "# Detect with low conf"
   ]
  },
  {
   "cell_type": "code",
   "execution_count": 82,
   "id": "783c956e-96b1-458e-a542-3f44c9ae7529",
   "metadata": {},
   "outputs": [
    {
     "name": "stdout",
     "output_type": "stream",
     "text": [
      "Results pics: 1240 (2049, 8)\n",
      "Testset pics: 2092\n"
     ]
    }
   ],
   "source": [
    "print('Results pics:', str(final_output.image_path.nunique()), final_output.shape )\n",
    "print('Testset pics:', str(test_df.image_path.nunique()) )"
   ]
  },
  {
   "cell_type": "code",
   "execution_count": 83,
   "id": "42e69e33-6299-4e21-a36c-8f069eba5190",
   "metadata": {},
   "outputs": [],
   "source": [
    "def tesl_low_conf(test_df, last_df, model, conf, keep ):\n",
    "    not_predict_pics = test_df[~test_df.image_path.isin(last_df.image_path.unique())]\n",
    "    val_output = pd.DataFrame()\n",
    "    \n",
    "    model.conf = conf\n",
    "    \n",
    "    for image in not_predict_pics.image_path.unique():\n",
    "        results = model(os.path.join(test_dir,image))\n",
    "        output = results.pandas().xyxy[0]\n",
    "        output['image_path'] = image\n",
    "        val_output = pd.concat([val_output, output])\n",
    "    \n",
    "    output = pd.DataFrame()\n",
    "    for image in val_output.image_path.unique():\n",
    "        selected = val_output[val_output.image_path == image].sort_values(by='confidence', ascending=False).head(keep)\n",
    "        output = pd.concat([output, selected])\n",
    "    \n",
    "    output = pd.concat([output, last_df])\n",
    "    print('output shape:' , output.shape)\n",
    "    print('output images:' , output.image_path.nunique())\n",
    "    \n",
    "    return output\n",
    "    "
   ]
  },
  {
   "cell_type": "code",
   "execution_count": 84,
   "id": "b63f5eff-634d-40a5-b8e2-23495e17c5d5",
   "metadata": {},
   "outputs": [
    {
     "data": {
      "text/html": [
       "<div>\n",
       "<style scoped>\n",
       "    .dataframe tbody tr th:only-of-type {\n",
       "        vertical-align: middle;\n",
       "    }\n",
       "\n",
       "    .dataframe tbody tr th {\n",
       "        vertical-align: top;\n",
       "    }\n",
       "\n",
       "    .dataframe thead th {\n",
       "        text-align: right;\n",
       "    }\n",
       "</style>\n",
       "<table border=\"1\" class=\"dataframe\">\n",
       "  <thead>\n",
       "    <tr style=\"text-align: right;\">\n",
       "      <th></th>\n",
       "      <th>xmin</th>\n",
       "      <th>ymin</th>\n",
       "      <th>xmax</th>\n",
       "      <th>ymax</th>\n",
       "      <th>confidence</th>\n",
       "    </tr>\n",
       "  </thead>\n",
       "  <tbody>\n",
       "    <tr>\n",
       "      <th>count</th>\n",
       "      <td>2049.000000</td>\n",
       "      <td>2049.000000</td>\n",
       "      <td>2049.000000</td>\n",
       "      <td>2049.000000</td>\n",
       "      <td>2049.000000</td>\n",
       "    </tr>\n",
       "    <tr>\n",
       "      <th>mean</th>\n",
       "      <td>399.927335</td>\n",
       "      <td>193.797296</td>\n",
       "      <td>579.665341</td>\n",
       "      <td>303.785114</td>\n",
       "      <td>0.711513</td>\n",
       "    </tr>\n",
       "    <tr>\n",
       "      <th>std</th>\n",
       "      <td>263.689271</td>\n",
       "      <td>84.527592</td>\n",
       "      <td>261.232117</td>\n",
       "      <td>92.640690</td>\n",
       "      <td>0.064081</td>\n",
       "    </tr>\n",
       "    <tr>\n",
       "      <th>min</th>\n",
       "      <td>0.000000</td>\n",
       "      <td>0.000000</td>\n",
       "      <td>64.357201</td>\n",
       "      <td>37.545410</td>\n",
       "      <td>0.600156</td>\n",
       "    </tr>\n",
       "    <tr>\n",
       "      <th>25%</th>\n",
       "      <td>162.427490</td>\n",
       "      <td>139.271988</td>\n",
       "      <td>361.355530</td>\n",
       "      <td>240.924408</td>\n",
       "      <td>0.658699</td>\n",
       "    </tr>\n",
       "    <tr>\n",
       "      <th>50%</th>\n",
       "      <td>415.870331</td>\n",
       "      <td>185.908127</td>\n",
       "      <td>595.671021</td>\n",
       "      <td>292.207397</td>\n",
       "      <td>0.708998</td>\n",
       "    </tr>\n",
       "    <tr>\n",
       "      <th>75%</th>\n",
       "      <td>621.138611</td>\n",
       "      <td>239.855850</td>\n",
       "      <td>802.630249</td>\n",
       "      <td>355.327881</td>\n",
       "      <td>0.762642</td>\n",
       "    </tr>\n",
       "    <tr>\n",
       "      <th>max</th>\n",
       "      <td>897.940247</td>\n",
       "      <td>467.815521</td>\n",
       "      <td>960.000000</td>\n",
       "      <td>540.000000</td>\n",
       "      <td>0.885038</td>\n",
       "    </tr>\n",
       "  </tbody>\n",
       "</table>\n",
       "</div>"
      ],
      "text/plain": [
       "              xmin         ymin         xmax         ymax   confidence\n",
       "count  2049.000000  2049.000000  2049.000000  2049.000000  2049.000000\n",
       "mean    399.927335   193.797296   579.665341   303.785114     0.711513\n",
       "std     263.689271    84.527592   261.232117    92.640690     0.064081\n",
       "min       0.000000     0.000000    64.357201    37.545410     0.600156\n",
       "25%     162.427490   139.271988   361.355530   240.924408     0.658699\n",
       "50%     415.870331   185.908127   595.671021   292.207397     0.708998\n",
       "75%     621.138611   239.855850   802.630249   355.327881     0.762642\n",
       "max     897.940247   467.815521   960.000000   540.000000     0.885038"
      ]
     },
     "execution_count": 84,
     "metadata": {},
     "output_type": "execute_result"
    }
   ],
   "source": [
    "final_output.describe()"
   ]
  },
  {
   "cell_type": "code",
   "execution_count": 127,
   "id": "837bb1d5-ba29-4741-a887-ba9af92c2c8d",
   "metadata": {},
   "outputs": [
    {
     "name": "stdout",
     "output_type": "stream",
     "text": [
      "output shape: (4135, 8)\n",
      "output images: 1961\n"
     ]
    }
   ],
   "source": [
    "df_10 = tesl_low_conf(test_df, final_output, model, 0.1, 30) "
   ]
  },
  {
   "cell_type": "code",
   "execution_count": 128,
   "id": "53f7f450-2682-423c-bf41-f733b1c2b5bc",
   "metadata": {},
   "outputs": [
    {
     "name": "stdout",
     "output_type": "stream",
     "text": [
      "output shape: (4235, 8)\n",
      "output images: 2029\n"
     ]
    }
   ],
   "source": [
    "df_4 = tesl_low_conf(test_df, df_10, model, 0.04, 15)"
   ]
  },
  {
   "cell_type": "code",
   "execution_count": 129,
   "id": "d07bbde6-e317-4261-af7d-99f51e11f098",
   "metadata": {},
   "outputs": [
    {
     "name": "stdout",
     "output_type": "stream",
     "text": [
      "output shape: (4550, 8)\n",
      "output images: 2092\n"
     ]
    }
   ],
   "source": [
    "val_output = tesl_low_conf(test_df, df_4, model, 0.001, 5)"
   ]
  },
  {
   "cell_type": "code",
   "execution_count": 132,
   "id": "380e5ae8-391b-4c33-a4e1-19d918e70c80",
   "metadata": {},
   "outputs": [],
   "source": []
  },
  {
   "cell_type": "code",
   "execution_count": 209,
   "id": "49fad4f9-637c-480a-acbf-f10ac944d98c",
   "metadata": {},
   "outputs": [],
   "source": [
    "val_output.xmax = val_output.xmax.astype(int) - 3\n",
    "val_output.xmin = val_output.xmin.astype(int)  + 3\n",
    "val_output_back.ymax = val_output.ymax.astype(int) - 2\n",
    "val_output.ymin = val_output.ymin.astype(int) + 2\n",
    "\n",
    "\n",
    "\n",
    "\n",
    "\n",
    "val_output.to_csv('./outputs/val_final_conf_shuffle.csv', index=False, encoding='utf-8-sig')\n",
    "val_output = val_output_back_up[['class','image_path','name','xmax','xmin','ymax','ymin']]\n",
    "val_output.to_csv('./outputs/final_results_shuffle.csv', index=False, encoding='utf-8-sig')"
   ]
  },
  {
   "cell_type": "code",
   "execution_count": 194,
   "id": "41026be1-46f3-4a28-ae26-f8da712b3166",
   "metadata": {},
   "outputs": [
    {
     "name": "stdout",
     "output_type": "stream",
     "text": [
      "output shape: (5072, 8)\n",
      "output images: 2092\n"
     ]
    }
   ],
   "source": [
    "#############################\n",
    "val_output = tesl_low_conf(test_df, final_output, model, 0.001,1)\n",
    "###########################3\n",
    "\n"
   ]
  },
  {
   "cell_type": "code",
   "execution_count": null,
   "id": "b402abe0-32d9-4523-8832-7605a538d256",
   "metadata": {},
   "outputs": [],
   "source": []
  }
 ],
 "metadata": {
  "kernelspec": {
   "display_name": "Python 3",
   "language": "python",
   "name": "python3"
  },
  "language_info": {
   "codemirror_mode": {
    "name": "ipython",
    "version": 3
   },
   "file_extension": ".py",
   "mimetype": "text/x-python",
   "name": "python",
   "nbconvert_exporter": "python",
   "pygments_lexer": "ipython3",
   "version": "3.8.10"
  }
 },
 "nbformat": 4,
 "nbformat_minor": 5
}
