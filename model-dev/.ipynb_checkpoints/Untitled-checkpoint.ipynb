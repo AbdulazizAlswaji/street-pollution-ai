{
 "cells": [
  {
   "cell_type": "code",
   "execution_count": 86,
   "id": "3d06deec",
   "metadata": {},
   "outputs": [],
   "source": [
    "import pandas as pd"
   ]
  },
  {
   "cell_type": "code",
   "execution_count": 87,
   "id": "ce6bb6c0",
   "metadata": {},
   "outputs": [],
   "source": [
    "df = pd.read_csv('outputs/final_output_2.csv')"
   ]
  },
  {
   "cell_type": "code",
   "execution_count": 88,
   "id": "af3f8ec6",
   "metadata": {},
   "outputs": [
    {
     "data": {
      "text/plain": [
       "class           int64\n",
       "image_path     object\n",
       "name           object\n",
       "xmax          float64\n",
       "xmin          float64\n",
       "ymax          float64\n",
       "ymin          float64\n",
       "dtype: object"
      ]
     },
     "execution_count": 88,
     "metadata": {},
     "output_type": "execute_result"
    }
   ],
   "source": [
    "df.dtypes"
   ]
  },
  {
   "cell_type": "code",
   "execution_count": 89,
   "id": "d0cab94a",
   "metadata": {},
   "outputs": [],
   "source": [
    "df.xmax = df.xmax /2 \n",
    "df.ymax = df.ymax / 2\n",
    "df.xmin = df.xmin / 2 \n",
    "df.ymin = df.ymin / 2"
   ]
  },
  {
   "cell_type": "code",
   "execution_count": 56,
   "id": "f1390c85",
   "metadata": {},
   "outputs": [],
   "source": [
    "# df.xmax = df.xmax.astype(int)\n",
    "# df.ymax = df.ymax.astype(int)\n",
    "# df.xmin = df.xmin.astype(int)\n",
    "# df.ymin = df.ymin.astype(int)"
   ]
  },
  {
   "cell_type": "code",
   "execution_count": 57,
   "id": "dc3cf6b4",
   "metadata": {},
   "outputs": [],
   "source": [
    "new = pd.DataFrame()\n",
    "for image in df.image_path.unique():\n",
    "    tmp = df[(df.image_path == image)]\n",
    "    pot = tmp[tmp['class']== 9]\n",
    "    if len(pot) >= 3:\n",
    "        pot = pot.sample(3)\n",
    "        tmp = tmp[tmp['class'] != 2]\n",
    "        tmp = pd.concat([tmp, pot])\n",
    "    new = pd.concat([new, tmp])\n",
    "    \n",
    "    "
   ]
  },
  {
   "cell_type": "code",
   "execution_count": 58,
   "id": "f6347519",
   "metadata": {},
   "outputs": [],
   "source": [
    "#new = df.copy()\n",
    "new = new[['class','image_path','name','xmax','xmin','ymax','ymin']]\n",
    "new.to_csv('new.csv', index=False)"
   ]
  },
  {
   "cell_type": "code",
   "execution_count": 8,
   "id": "30103685",
   "metadata": {},
   "outputs": [
    {
     "data": {
      "text/html": [
       "<div>\n",
       "<style scoped>\n",
       "    .dataframe tbody tr th:only-of-type {\n",
       "        vertical-align: middle;\n",
       "    }\n",
       "\n",
       "    .dataframe tbody tr th {\n",
       "        vertical-align: top;\n",
       "    }\n",
       "\n",
       "    .dataframe thead th {\n",
       "        text-align: right;\n",
       "    }\n",
       "</style>\n",
       "<table border=\"1\" class=\"dataframe\">\n",
       "  <thead>\n",
       "    <tr style=\"text-align: right;\">\n",
       "      <th></th>\n",
       "      <th>class</th>\n",
       "      <th>image_path</th>\n",
       "      <th>name</th>\n",
       "      <th>xmax</th>\n",
       "      <th>xmin</th>\n",
       "      <th>ymax</th>\n",
       "      <th>ymin</th>\n",
       "    </tr>\n",
       "  </thead>\n",
       "  <tbody>\n",
       "    <tr>\n",
       "      <th>6878</th>\n",
       "      <td>9</td>\n",
       "      <td>984841724143c66506986b3faa50e4b9.jpg</td>\n",
       "      <td>CLUTTER_SIDEWALK</td>\n",
       "      <td>960.0</td>\n",
       "      <td>762.5</td>\n",
       "      <td>319.5</td>\n",
       "      <td>193.5</td>\n",
       "    </tr>\n",
       "    <tr>\n",
       "      <th>6879</th>\n",
       "      <td>9</td>\n",
       "      <td>984841724143c66506986b3faa50e4b9.jpg</td>\n",
       "      <td>CLUTTER_SIDEWALK</td>\n",
       "      <td>846.0</td>\n",
       "      <td>587.0</td>\n",
       "      <td>315.5</td>\n",
       "      <td>206.5</td>\n",
       "    </tr>\n",
       "    <tr>\n",
       "      <th>6880</th>\n",
       "      <td>9</td>\n",
       "      <td>984841724143c66506986b3faa50e4b9.jpg</td>\n",
       "      <td>CLUTTER_SIDEWALK</td>\n",
       "      <td>664.0</td>\n",
       "      <td>164.5</td>\n",
       "      <td>326.0</td>\n",
       "      <td>202.0</td>\n",
       "    </tr>\n",
       "    <tr>\n",
       "      <th>6881</th>\n",
       "      <td>3</td>\n",
       "      <td>984841724143c66506986b3faa50e4b9.jpg</td>\n",
       "      <td>GARBAGE</td>\n",
       "      <td>299.5</td>\n",
       "      <td>229.0</td>\n",
       "      <td>295.0</td>\n",
       "      <td>233.5</td>\n",
       "    </tr>\n",
       "    <tr>\n",
       "      <th>6882</th>\n",
       "      <td>9</td>\n",
       "      <td>984841724143c66506986b3faa50e4b9.jpg</td>\n",
       "      <td>CLUTTER_SIDEWALK</td>\n",
       "      <td>319.0</td>\n",
       "      <td>0.0</td>\n",
       "      <td>335.0</td>\n",
       "      <td>204.0</td>\n",
       "    </tr>\n",
       "    <tr>\n",
       "      <th>6879</th>\n",
       "      <td>9</td>\n",
       "      <td>984841724143c66506986b3faa50e4b9.jpg</td>\n",
       "      <td>CLUTTER_SIDEWALK</td>\n",
       "      <td>846.0</td>\n",
       "      <td>587.0</td>\n",
       "      <td>315.5</td>\n",
       "      <td>206.5</td>\n",
       "    </tr>\n",
       "    <tr>\n",
       "      <th>6880</th>\n",
       "      <td>9</td>\n",
       "      <td>984841724143c66506986b3faa50e4b9.jpg</td>\n",
       "      <td>CLUTTER_SIDEWALK</td>\n",
       "      <td>664.0</td>\n",
       "      <td>164.5</td>\n",
       "      <td>326.0</td>\n",
       "      <td>202.0</td>\n",
       "    </tr>\n",
       "    <tr>\n",
       "      <th>6878</th>\n",
       "      <td>9</td>\n",
       "      <td>984841724143c66506986b3faa50e4b9.jpg</td>\n",
       "      <td>CLUTTER_SIDEWALK</td>\n",
       "      <td>960.0</td>\n",
       "      <td>762.5</td>\n",
       "      <td>319.5</td>\n",
       "      <td>193.5</td>\n",
       "    </tr>\n",
       "  </tbody>\n",
       "</table>\n",
       "</div>"
      ],
      "text/plain": [
       "      class                            image_path              name   xmax  \\\n",
       "6878      9  984841724143c66506986b3faa50e4b9.jpg  CLUTTER_SIDEWALK  960.0   \n",
       "6879      9  984841724143c66506986b3faa50e4b9.jpg  CLUTTER_SIDEWALK  846.0   \n",
       "6880      9  984841724143c66506986b3faa50e4b9.jpg  CLUTTER_SIDEWALK  664.0   \n",
       "6881      3  984841724143c66506986b3faa50e4b9.jpg           GARBAGE  299.5   \n",
       "6882      9  984841724143c66506986b3faa50e4b9.jpg  CLUTTER_SIDEWALK  319.0   \n",
       "6879      9  984841724143c66506986b3faa50e4b9.jpg  CLUTTER_SIDEWALK  846.0   \n",
       "6880      9  984841724143c66506986b3faa50e4b9.jpg  CLUTTER_SIDEWALK  664.0   \n",
       "6878      9  984841724143c66506986b3faa50e4b9.jpg  CLUTTER_SIDEWALK  960.0   \n",
       "\n",
       "       xmin   ymax   ymin  \n",
       "6878  762.5  319.5  193.5  \n",
       "6879  587.0  315.5  206.5  \n",
       "6880  164.5  326.0  202.0  \n",
       "6881  229.0  295.0  233.5  \n",
       "6882    0.0  335.0  204.0  \n",
       "6879  587.0  315.5  206.5  \n",
       "6880  164.5  326.0  202.0  \n",
       "6878  762.5  319.5  193.5  "
      ]
     },
     "execution_count": 8,
     "metadata": {},
     "output_type": "execute_result"
    }
   ],
   "source": [
    "tmp"
   ]
  },
  {
   "cell_type": "code",
   "execution_count": 9,
   "id": "0b0bfaf5",
   "metadata": {},
   "outputs": [
    {
     "data": {
      "text/html": [
       "<div>\n",
       "<style scoped>\n",
       "    .dataframe tbody tr th:only-of-type {\n",
       "        vertical-align: middle;\n",
       "    }\n",
       "\n",
       "    .dataframe tbody tr th {\n",
       "        vertical-align: top;\n",
       "    }\n",
       "\n",
       "    .dataframe thead th {\n",
       "        text-align: right;\n",
       "    }\n",
       "</style>\n",
       "<table border=\"1\" class=\"dataframe\">\n",
       "  <thead>\n",
       "    <tr style=\"text-align: right;\">\n",
       "      <th></th>\n",
       "      <th>class</th>\n",
       "      <th>image_path</th>\n",
       "      <th>name</th>\n",
       "      <th>xmax</th>\n",
       "      <th>xmin</th>\n",
       "      <th>ymax</th>\n",
       "      <th>ymin</th>\n",
       "    </tr>\n",
       "  </thead>\n",
       "  <tbody>\n",
       "    <tr>\n",
       "      <th>0</th>\n",
       "      <td>3</td>\n",
       "      <td>8aa9b7f07715e15490f5466c6d36e53b.jpg</td>\n",
       "      <td>GARBAGE</td>\n",
       "      <td>113.5</td>\n",
       "      <td>0.0</td>\n",
       "      <td>324.5</td>\n",
       "      <td>153.0</td>\n",
       "    </tr>\n",
       "    <tr>\n",
       "      <th>1</th>\n",
       "      <td>3</td>\n",
       "      <td>8aa9b7f07715e15490f5466c6d36e53b.jpg</td>\n",
       "      <td>GARBAGE</td>\n",
       "      <td>497.0</td>\n",
       "      <td>447.5</td>\n",
       "      <td>521.5</td>\n",
       "      <td>477.0</td>\n",
       "    </tr>\n",
       "    <tr>\n",
       "      <th>2</th>\n",
       "      <td>3</td>\n",
       "      <td>8aa9b7f07715e15490f5466c6d36e53b.jpg</td>\n",
       "      <td>GARBAGE</td>\n",
       "      <td>193.5</td>\n",
       "      <td>0.0</td>\n",
       "      <td>361.0</td>\n",
       "      <td>135.0</td>\n",
       "    </tr>\n",
       "    <tr>\n",
       "      <th>3</th>\n",
       "      <td>3</td>\n",
       "      <td>8aa9b7f07715e15490f5466c6d36e53b.jpg</td>\n",
       "      <td>GARBAGE</td>\n",
       "      <td>110.0</td>\n",
       "      <td>0.0</td>\n",
       "      <td>402.0</td>\n",
       "      <td>210.5</td>\n",
       "    </tr>\n",
       "    <tr>\n",
       "      <th>4</th>\n",
       "      <td>3</td>\n",
       "      <td>8aa9b7f07715e15490f5466c6d36e53b.jpg</td>\n",
       "      <td>GARBAGE</td>\n",
       "      <td>959.5</td>\n",
       "      <td>929.0</td>\n",
       "      <td>315.5</td>\n",
       "      <td>234.5</td>\n",
       "    </tr>\n",
       "    <tr>\n",
       "      <th>...</th>\n",
       "      <td>...</td>\n",
       "      <td>...</td>\n",
       "      <td>...</td>\n",
       "      <td>...</td>\n",
       "      <td>...</td>\n",
       "      <td>...</td>\n",
       "      <td>...</td>\n",
       "    </tr>\n",
       "    <tr>\n",
       "      <th>6881</th>\n",
       "      <td>3</td>\n",
       "      <td>984841724143c66506986b3faa50e4b9.jpg</td>\n",
       "      <td>GARBAGE</td>\n",
       "      <td>299.5</td>\n",
       "      <td>229.0</td>\n",
       "      <td>295.0</td>\n",
       "      <td>233.5</td>\n",
       "    </tr>\n",
       "    <tr>\n",
       "      <th>6882</th>\n",
       "      <td>9</td>\n",
       "      <td>984841724143c66506986b3faa50e4b9.jpg</td>\n",
       "      <td>CLUTTER_SIDEWALK</td>\n",
       "      <td>319.0</td>\n",
       "      <td>0.0</td>\n",
       "      <td>335.0</td>\n",
       "      <td>204.0</td>\n",
       "    </tr>\n",
       "    <tr>\n",
       "      <th>6879</th>\n",
       "      <td>9</td>\n",
       "      <td>984841724143c66506986b3faa50e4b9.jpg</td>\n",
       "      <td>CLUTTER_SIDEWALK</td>\n",
       "      <td>846.0</td>\n",
       "      <td>587.0</td>\n",
       "      <td>315.5</td>\n",
       "      <td>206.5</td>\n",
       "    </tr>\n",
       "    <tr>\n",
       "      <th>6880</th>\n",
       "      <td>9</td>\n",
       "      <td>984841724143c66506986b3faa50e4b9.jpg</td>\n",
       "      <td>CLUTTER_SIDEWALK</td>\n",
       "      <td>664.0</td>\n",
       "      <td>164.5</td>\n",
       "      <td>326.0</td>\n",
       "      <td>202.0</td>\n",
       "    </tr>\n",
       "    <tr>\n",
       "      <th>6878</th>\n",
       "      <td>9</td>\n",
       "      <td>984841724143c66506986b3faa50e4b9.jpg</td>\n",
       "      <td>CLUTTER_SIDEWALK</td>\n",
       "      <td>960.0</td>\n",
       "      <td>762.5</td>\n",
       "      <td>319.5</td>\n",
       "      <td>193.5</td>\n",
       "    </tr>\n",
       "  </tbody>\n",
       "</table>\n",
       "<p>7332 rows × 7 columns</p>\n",
       "</div>"
      ],
      "text/plain": [
       "      class                            image_path              name   xmax  \\\n",
       "0         3  8aa9b7f07715e15490f5466c6d36e53b.jpg           GARBAGE  113.5   \n",
       "1         3  8aa9b7f07715e15490f5466c6d36e53b.jpg           GARBAGE  497.0   \n",
       "2         3  8aa9b7f07715e15490f5466c6d36e53b.jpg           GARBAGE  193.5   \n",
       "3         3  8aa9b7f07715e15490f5466c6d36e53b.jpg           GARBAGE  110.0   \n",
       "4         3  8aa9b7f07715e15490f5466c6d36e53b.jpg           GARBAGE  959.5   \n",
       "...     ...                                   ...               ...    ...   \n",
       "6881      3  984841724143c66506986b3faa50e4b9.jpg           GARBAGE  299.5   \n",
       "6882      9  984841724143c66506986b3faa50e4b9.jpg  CLUTTER_SIDEWALK  319.0   \n",
       "6879      9  984841724143c66506986b3faa50e4b9.jpg  CLUTTER_SIDEWALK  846.0   \n",
       "6880      9  984841724143c66506986b3faa50e4b9.jpg  CLUTTER_SIDEWALK  664.0   \n",
       "6878      9  984841724143c66506986b3faa50e4b9.jpg  CLUTTER_SIDEWALK  960.0   \n",
       "\n",
       "       xmin   ymax   ymin  \n",
       "0       0.0  324.5  153.0  \n",
       "1     447.5  521.5  477.0  \n",
       "2       0.0  361.0  135.0  \n",
       "3       0.0  402.0  210.5  \n",
       "4     929.0  315.5  234.5  \n",
       "...     ...    ...    ...  \n",
       "6881  229.0  295.0  233.5  \n",
       "6882    0.0  335.0  204.0  \n",
       "6879  587.0  315.5  206.5  \n",
       "6880  164.5  326.0  202.0  \n",
       "6878  762.5  319.5  193.5  \n",
       "\n",
       "[7332 rows x 7 columns]"
      ]
     },
     "execution_count": 9,
     "metadata": {},
     "output_type": "execute_result"
    }
   ],
   "source": [
    "new"
   ]
  },
  {
   "cell_type": "code",
   "execution_count": 10,
   "id": "e3c66097",
   "metadata": {},
   "outputs": [
    {
     "data": {
      "text/plain": [
       "(6883, 7)"
      ]
     },
     "execution_count": 10,
     "metadata": {},
     "output_type": "execute_result"
    }
   ],
   "source": [
    "df.shape"
   ]
  },
  {
   "cell_type": "code",
   "execution_count": 59,
   "id": "e207aa7a",
   "metadata": {},
   "outputs": [],
   "source": [
    "def remove_overlap(df):\n",
    "    output = pd.DataFrame()\n",
    "    for image in df.image_path.unique():\n",
    "        check = df[df.image_path == image].sort_values(by='xmax', ascending=False)\n",
    "        check = check.reset_index()\n",
    "        del check['index']\n",
    "        \n",
    "#         display(check)\n",
    "        \n",
    "        res = []\n",
    "        for i in check.index:\n",
    "            j = i + 1\n",
    "            if j < len(check):\n",
    "                c_xmin = check.iloc[i].xmin\n",
    "                p_xmax = check.iloc[j].xmax\n",
    "                \n",
    "                if c_xmin > p_xmax and check.iloc[i]['class'] == check.iloc[j]['class']:\n",
    "                    res.append(1)\n",
    "                else:\n",
    "                    res.append(0)\n",
    "        res.append(1)\n",
    "#         print(res)\n",
    "        \n",
    "        check['keep'] = res\n",
    "        \n",
    "        output = pd.concat([output, check[check.keep == 1]])\n",
    "    return output\n",
    "        "
   ]
  },
  {
   "cell_type": "code",
   "execution_count": 60,
   "id": "979a29a9",
   "metadata": {},
   "outputs": [],
   "source": [
    "df = remove_overlap(df)"
   ]
  },
  {
   "cell_type": "code",
   "execution_count": 61,
   "id": "fa3bb24f",
   "metadata": {},
   "outputs": [
    {
     "data": {
      "text/plain": [
       "(4148, 8)"
      ]
     },
     "execution_count": 61,
     "metadata": {},
     "output_type": "execute_result"
    }
   ],
   "source": [
    "df.shape"
   ]
  },
  {
   "cell_type": "code",
   "execution_count": 62,
   "id": "b671021c",
   "metadata": {},
   "outputs": [],
   "source": [
    "df = df[['class','image_path','name','xmax','xmin','ymax','ymin']]\n",
    "df.to_csv('df.csv', index=False)"
   ]
  },
  {
   "cell_type": "code",
   "execution_count": 227,
   "id": "0a91ab38",
   "metadata": {},
   "outputs": [],
   "source": [
    "\n",
    "\n",
    "df = pd.read_csv('outputs/results_conf.csv')\n",
    "df.shape\n",
    "\n",
    "df.xmax = df.xmax /2 \n",
    "df.ymax = df.ymax / 2\n",
    "df.xmin = df.xmin / 2 \n",
    "df.ymin = df.ymin / 2\n",
    "\n",
    "per = df[df.confidence >= 0.43]\n",
    "\n",
    "non = df[~df.image_path.isin(per.image_path.unique())]\n",
    "\n",
    "non.image_path.nunique()\n",
    "\n",
    "non = non.sort_values(by=['image_path', 'confidence'], ascending=False)\n",
    "non = non.drop_duplicates('image_path', keep='first')\n",
    "non\n",
    "\n",
    "o = pd.concat([per, non])\n",
    "\n",
    "o = o[['class','image_path','name','xmax','xmin','ymax','ymin']]\n",
    "o.to_csv('o.csv', index=False)\n"
   ]
  },
  {
   "cell_type": "code",
   "execution_count": null,
   "id": "1a347e05",
   "metadata": {},
   "outputs": [],
   "source": []
  },
  {
   "cell_type": "code",
   "execution_count": 246,
   "id": "7c07fc0e",
   "metadata": {},
   "outputs": [
    {
     "data": {
      "text/plain": [
       "(23220, 8)"
      ]
     },
     "execution_count": 246,
     "metadata": {},
     "output_type": "execute_result"
    }
   ],
   "source": [
    "df = pd.read_csv('outputs/results_conf.csv')\n",
    "df.shape"
   ]
  },
  {
   "cell_type": "code",
   "execution_count": 247,
   "id": "8ff3de9d",
   "metadata": {},
   "outputs": [
    {
     "data": {
      "text/plain": [
       "xmin          float64\n",
       "ymin          float64\n",
       "xmax          float64\n",
       "ymax          float64\n",
       "confidence    float64\n",
       "class           int64\n",
       "name           object\n",
       "image_path     object\n",
       "dtype: object"
      ]
     },
     "execution_count": 247,
     "metadata": {},
     "output_type": "execute_result"
    }
   ],
   "source": [
    "df.dtypes"
   ]
  },
  {
   "cell_type": "code",
   "execution_count": 248,
   "id": "5e26b13b",
   "metadata": {},
   "outputs": [],
   "source": [
    "df.xmax = df.xmax /2 \n",
    "df.ymax = df.ymax / 2\n",
    "df.xmin = df.xmin / 2 \n",
    "df.ymin = df.ymin / 2"
   ]
  },
  {
   "cell_type": "code",
   "execution_count": 249,
   "id": "327c3c55",
   "metadata": {},
   "outputs": [],
   "source": [
    "per = df[df.confidence >= 0.43]"
   ]
  },
  {
   "cell_type": "code",
   "execution_count": null,
   "id": "78de3db2",
   "metadata": {},
   "outputs": [],
   "source": []
  },
  {
   "cell_type": "code",
   "execution_count": 250,
   "id": "4f198b56",
   "metadata": {},
   "outputs": [],
   "source": [
    "non = df[~df.image_path.isin(per.image_path.unique())]"
   ]
  },
  {
   "cell_type": "code",
   "execution_count": 251,
   "id": "b37ed561",
   "metadata": {},
   "outputs": [
    {
     "data": {
      "text/plain": [
       "308"
      ]
     },
     "execution_count": 251,
     "metadata": {},
     "output_type": "execute_result"
    }
   ],
   "source": [
    "non.image_path.nunique()"
   ]
  },
  {
   "cell_type": "code",
   "execution_count": 252,
   "id": "0a7b5a6a",
   "metadata": {},
   "outputs": [],
   "source": [
    "non_2 = pd.DataFrame()\n",
    "\n",
    "for image in non.image_path.unique():\n",
    "    tmp = non[non.image_path == image].sort_values(by='confidence', ascending=False)\n",
    "    tmp = tmp.reset_index()\n",
    "    tmp = tmp.head(3)\n",
    "    \n",
    "    non_2 = pd.concat([non_2, tmp])\n"
   ]
  },
  {
   "cell_type": "code",
   "execution_count": 253,
   "id": "24198e41",
   "metadata": {},
   "outputs": [],
   "source": [
    "o = pd.concat([per, non_2])"
   ]
  },
  {
   "cell_type": "code",
   "execution_count": 254,
   "id": "ca72f6ad",
   "metadata": {},
   "outputs": [
    {
     "data": {
      "text/plain": [
       "(5100, 9)"
      ]
     },
     "execution_count": 254,
     "metadata": {},
     "output_type": "execute_result"
    }
   ],
   "source": [
    "o.shape"
   ]
  },
  {
   "cell_type": "code",
   "execution_count": 255,
   "id": "6f0951fe",
   "metadata": {},
   "outputs": [],
   "source": [
    "o = o[['class','image_path','name','xmax','xmin','ymax','ymin']]\n",
    "o.to_csv('o.csv', index=False)"
   ]
  },
  {
   "cell_type": "code",
   "execution_count": null,
   "id": "0684f736",
   "metadata": {},
   "outputs": [],
   "source": []
  },
  {
   "cell_type": "code",
   "execution_count": 241,
   "id": "d1dd2d48",
   "metadata": {},
   "outputs": [
    {
     "data": {
      "text/html": [
       "<div>\n",
       "<style scoped>\n",
       "    .dataframe tbody tr th:only-of-type {\n",
       "        vertical-align: middle;\n",
       "    }\n",
       "\n",
       "    .dataframe tbody tr th {\n",
       "        vertical-align: top;\n",
       "    }\n",
       "\n",
       "    .dataframe thead th {\n",
       "        text-align: right;\n",
       "    }\n",
       "</style>\n",
       "<table border=\"1\" class=\"dataframe\">\n",
       "  <thead>\n",
       "    <tr style=\"text-align: right;\">\n",
       "      <th></th>\n",
       "      <th>xmin</th>\n",
       "      <th>ymin</th>\n",
       "      <th>xmax</th>\n",
       "      <th>ymax</th>\n",
       "      <th>confidence</th>\n",
       "      <th>class</th>\n",
       "    </tr>\n",
       "  </thead>\n",
       "  <tbody>\n",
       "    <tr>\n",
       "      <th>count</th>\n",
       "      <td>10882.000000</td>\n",
       "      <td>10882.000000</td>\n",
       "      <td>10882.000000</td>\n",
       "      <td>10882.000000</td>\n",
       "      <td>10882.000000</td>\n",
       "      <td>10882.0</td>\n",
       "    </tr>\n",
       "    <tr>\n",
       "      <th>mean</th>\n",
       "      <td>424.256739</td>\n",
       "      <td>230.360392</td>\n",
       "      <td>512.651829</td>\n",
       "      <td>304.657512</td>\n",
       "      <td>0.170314</td>\n",
       "      <td>3.0</td>\n",
       "    </tr>\n",
       "    <tr>\n",
       "      <th>std</th>\n",
       "      <td>328.543383</td>\n",
       "      <td>77.532468</td>\n",
       "      <td>331.230956</td>\n",
       "      <td>83.594398</td>\n",
       "      <td>0.229829</td>\n",
       "      <td>0.0</td>\n",
       "    </tr>\n",
       "    <tr>\n",
       "      <th>min</th>\n",
       "      <td>0.000000</td>\n",
       "      <td>0.000000</td>\n",
       "      <td>18.443874</td>\n",
       "      <td>11.313635</td>\n",
       "      <td>0.010006</td>\n",
       "      <td>3.0</td>\n",
       "    </tr>\n",
       "    <tr>\n",
       "      <th>25%</th>\n",
       "      <td>98.670181</td>\n",
       "      <td>178.052158</td>\n",
       "      <td>205.718525</td>\n",
       "      <td>246.157703</td>\n",
       "      <td>0.017706</td>\n",
       "      <td>3.0</td>\n",
       "    </tr>\n",
       "    <tr>\n",
       "      <th>50%</th>\n",
       "      <td>407.669952</td>\n",
       "      <td>219.927818</td>\n",
       "      <td>510.340134</td>\n",
       "      <td>292.616837</td>\n",
       "      <td>0.044571</td>\n",
       "      <td>3.0</td>\n",
       "    </tr>\n",
       "    <tr>\n",
       "      <th>75%</th>\n",
       "      <td>720.098328</td>\n",
       "      <td>275.012268</td>\n",
       "      <td>834.693436</td>\n",
       "      <td>353.825233</td>\n",
       "      <td>0.237355</td>\n",
       "      <td>3.0</td>\n",
       "    </tr>\n",
       "    <tr>\n",
       "      <th>max</th>\n",
       "      <td>943.244995</td>\n",
       "      <td>507.537079</td>\n",
       "      <td>960.000000</td>\n",
       "      <td>540.000000</td>\n",
       "      <td>0.866660</td>\n",
       "      <td>3.0</td>\n",
       "    </tr>\n",
       "  </tbody>\n",
       "</table>\n",
       "</div>"
      ],
      "text/plain": [
       "               xmin          ymin          xmax          ymax    confidence  \\\n",
       "count  10882.000000  10882.000000  10882.000000  10882.000000  10882.000000   \n",
       "mean     424.256739    230.360392    512.651829    304.657512      0.170314   \n",
       "std      328.543383     77.532468    331.230956     83.594398      0.229829   \n",
       "min        0.000000      0.000000     18.443874     11.313635      0.010006   \n",
       "25%       98.670181    178.052158    205.718525    246.157703      0.017706   \n",
       "50%      407.669952    219.927818    510.340134    292.616837      0.044571   \n",
       "75%      720.098328    275.012268    834.693436    353.825233      0.237355   \n",
       "max      943.244995    507.537079    960.000000    540.000000      0.866660   \n",
       "\n",
       "         class  \n",
       "count  10882.0  \n",
       "mean       3.0  \n",
       "std        0.0  \n",
       "min        3.0  \n",
       "25%        3.0  \n",
       "50%        3.0  \n",
       "75%        3.0  \n",
       "max        3.0  "
      ]
     },
     "execution_count": 241,
     "metadata": {},
     "output_type": "execute_result"
    }
   ],
   "source": [
    "df[df['class']==3].describe()"
   ]
  },
  {
   "cell_type": "code",
   "execution_count": null,
   "id": "5f8152e5",
   "metadata": {},
   "outputs": [],
   "source": []
  }
 ],
 "metadata": {
  "kernelspec": {
   "display_name": "Python 3 (ipykernel)",
   "language": "python",
   "name": "python3"
  },
  "language_info": {
   "codemirror_mode": {
    "name": "ipython",
    "version": 3
   },
   "file_extension": ".py",
   "mimetype": "text/x-python",
   "name": "python",
   "nbconvert_exporter": "python",
   "pygments_lexer": "ipython3",
   "version": "3.9.13"
  }
 },
 "nbformat": 4,
 "nbformat_minor": 5
}
