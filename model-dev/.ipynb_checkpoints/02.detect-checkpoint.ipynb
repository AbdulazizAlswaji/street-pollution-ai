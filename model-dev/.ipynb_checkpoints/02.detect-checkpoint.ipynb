{
 "cells": [
  {
   "cell_type": "markdown",
   "id": "a8e26a34-13ab-4942-b5c3-58c67c86ab28",
   "metadata": {},
   "source": [
    "# Imports"
   ]
  },
  {
   "cell_type": "code",
   "execution_count": 1,
   "id": "ccfa0e06-9a5f-4465-a6cf-f30f073d175d",
   "metadata": {},
   "outputs": [
    {
     "name": "stderr",
     "output_type": "stream",
     "text": [
      "/home/ubuntu/.local/lib/python3.8/site-packages/pandas/core/computation/expressions.py:20: UserWarning: Pandas requires version '2.7.3' or newer of 'numexpr' (version '2.7.1' currently installed).\n",
      "  from pandas.core.computation.check import NUMEXPR_INSTALLED\n"
     ]
    }
   ],
   "source": [
    "import os\n",
    "import glob\n",
    "import pandas as pd\n",
    "import shutil\n",
    "from PIL import Image\n",
    "import cv2\n",
    "import matplotlib.pyplot as plt\n",
    "import torch\n",
    "#from utils.utils import plot_results"
   ]
  },
  {
   "cell_type": "code",
   "execution_count": 2,
   "id": "97e274a2-dcd8-4df0-8fcd-eab8792ceaf4",
   "metadata": {},
   "outputs": [],
   "source": [
    "images_dir = './raw/images'\n",
    "train_dir = './dataset/train/images'\n",
    "val_dir = './dataset/val/images'\n",
    "test_dir = './dataset/test/images'\n",
    "test_df = pd.read_csv('./raw/test.csv')"
   ]
  },
  {
   "cell_type": "markdown",
   "id": "50518d68-7abe-4018-bb3a-0bde5ee11066",
   "metadata": {},
   "source": [
    "# Detection"
   ]
  },
  {
   "cell_type": "code",
   "execution_count": 11,
   "id": "d0e24ee7-b6ff-471e-a832-e7eac865e72b",
   "metadata": {},
   "outputs": [],
   "source": [
    "#!python yolov5/detect.py --weights yolov5/runs/train/exp2/weights/best.pt --img 640 --conf 0.4 --source dataset/test/images"
   ]
  },
  {
   "cell_type": "code",
   "execution_count": 75,
   "id": "f48af683-aa0b-4c7d-bcb6-f330c288b8b6",
   "metadata": {},
   "outputs": [
    {
     "name": "stderr",
     "output_type": "stream",
     "text": [
      "YOLOv5 🚀 v7.0-72-g064365d Python-3.8.10 torch-1.13.1+cu117 CUDA:0 (NVIDIA A100-SXM4-40GB, 40396MiB)\n",
      "\n",
      "Fusing layers... \n",
      "Model summary: 267 layers, 46162128 parameters, 0 gradients, 107.8 GFLOPs\n",
      "Adding AutoShape... \n"
     ]
    }
   ],
   "source": [
    "if not os.path.exists('./outputs'):\n",
    "    os.mkdir('outputs')\n",
    "\n",
    "weight_path = 'yolov5/runs/train/exp/weights/best.pt'\n",
    "model = torch.hub.load('yolov5', 'custom', path=weight_path, source='local')\n",
    "final_output = pd.DataFrame()\n",
    "\n",
    "\n",
    "for image in test_df.image_path.unique():\n",
    "    image_path = os.path.join(test_dir,image)\n",
    "    results = model(image_path)\n",
    "    output = results.pandas().xyxy[0]\n",
    "    output['image_path'] = image\n",
    "    final_output = pd.concat([final_output, output])\n",
    "\n",
    "final_output.to_csv('./outputs/results_conf_shuffil.csv', index=False, encoding='utf-8-sig')"
   ]
  },
  {
   "cell_type": "markdown",
   "id": "b9dae23b-2c47-49d7-a31a-211f54f2cab4",
   "metadata": {},
   "source": [
    "# Detect with low conf"
   ]
  },
  {
   "cell_type": "code",
   "execution_count": 76,
   "id": "783c956e-96b1-458e-a542-3f44c9ae7529",
   "metadata": {},
   "outputs": [
    {
     "name": "stdout",
     "output_type": "stream",
     "text": [
      "Results pics: 1857 (5021, 8)\n",
      "Testset pics: 2092\n"
     ]
    }
   ],
   "source": [
    "print('Results pics:', str(final_output.image_path.nunique()), final_output.shape )\n",
    "print('Testset pics:', str(test_df.image_path.nunique()) )"
   ]
  },
  {
   "cell_type": "code",
   "execution_count": 77,
   "id": "42e69e33-6299-4e21-a36c-8f069eba5190",
   "metadata": {},
   "outputs": [],
   "source": [
    "def tesl_low_conf(test_df, last_df, model, conf, keep ):\n",
    "    not_predict_pics = test_df[~test_df.image_path.isin(last_df.image_path.unique())]\n",
    "    val_output = pd.DataFrame()\n",
    "    \n",
    "    model.conf = conf\n",
    "    \n",
    "    for image in not_predict_pics.image_path.unique():\n",
    "        results = model(os.path.join(test_dir,image))\n",
    "        output = results.pandas().xyxy[0]\n",
    "        output['image_path'] = image\n",
    "        val_output = pd.concat([val_output, output])\n",
    "    \n",
    "    output = pd.DataFrame()\n",
    "    for image in val_output.image_path.unique():\n",
    "        selected = val_output[val_output.image_path == image].sort_values(by='confidence', ascending=False).head(keep)\n",
    "        output = pd.concat([output, selected])\n",
    "    \n",
    "    output = pd.concat([output, last_df])\n",
    "    print('output shape:' , output.shape)\n",
    "    print('output images:' , output.image_path.nunique())\n",
    "    \n",
    "    return output\n",
    "    "
   ]
  },
  {
   "cell_type": "code",
   "execution_count": 78,
   "id": "b63f5eff-634d-40a5-b8e2-23495e17c5d5",
   "metadata": {},
   "outputs": [
    {
     "data": {
      "text/html": [
       "<div>\n",
       "<style scoped>\n",
       "    .dataframe tbody tr th:only-of-type {\n",
       "        vertical-align: middle;\n",
       "    }\n",
       "\n",
       "    .dataframe tbody tr th {\n",
       "        vertical-align: top;\n",
       "    }\n",
       "\n",
       "    .dataframe thead th {\n",
       "        text-align: right;\n",
       "    }\n",
       "</style>\n",
       "<table border=\"1\" class=\"dataframe\">\n",
       "  <thead>\n",
       "    <tr style=\"text-align: right;\">\n",
       "      <th></th>\n",
       "      <th>xmin</th>\n",
       "      <th>ymin</th>\n",
       "      <th>xmax</th>\n",
       "      <th>ymax</th>\n",
       "      <th>confidence</th>\n",
       "    </tr>\n",
       "  </thead>\n",
       "  <tbody>\n",
       "    <tr>\n",
       "      <th>count</th>\n",
       "      <td>5021.000000</td>\n",
       "      <td>5021.000000</td>\n",
       "      <td>5021.000000</td>\n",
       "      <td>5021.000000</td>\n",
       "      <td>5021.000000</td>\n",
       "    </tr>\n",
       "    <tr>\n",
       "      <th>mean</th>\n",
       "      <td>374.455001</td>\n",
       "      <td>197.766799</td>\n",
       "      <td>580.789183</td>\n",
       "      <td>317.117364</td>\n",
       "      <td>0.585879</td>\n",
       "    </tr>\n",
       "    <tr>\n",
       "      <th>std</th>\n",
       "      <td>274.884546</td>\n",
       "      <td>81.227119</td>\n",
       "      <td>271.788520</td>\n",
       "      <td>98.401234</td>\n",
       "      <td>0.168587</td>\n",
       "    </tr>\n",
       "    <tr>\n",
       "      <th>min</th>\n",
       "      <td>0.000000</td>\n",
       "      <td>0.000000</td>\n",
       "      <td>29.221693</td>\n",
       "      <td>27.773411</td>\n",
       "      <td>0.250019</td>\n",
       "    </tr>\n",
       "    <tr>\n",
       "      <th>25%</th>\n",
       "      <td>119.565788</td>\n",
       "      <td>146.249435</td>\n",
       "      <td>352.399963</td>\n",
       "      <td>246.475525</td>\n",
       "      <td>0.449159</td>\n",
       "    </tr>\n",
       "    <tr>\n",
       "      <th>50%</th>\n",
       "      <td>361.889587</td>\n",
       "      <td>189.865311</td>\n",
       "      <td>596.428833</td>\n",
       "      <td>299.797852</td>\n",
       "      <td>0.610979</td>\n",
       "    </tr>\n",
       "    <tr>\n",
       "      <th>75%</th>\n",
       "      <td>610.058838</td>\n",
       "      <td>242.575684</td>\n",
       "      <td>826.921265</td>\n",
       "      <td>376.172974</td>\n",
       "      <td>0.728731</td>\n",
       "    </tr>\n",
       "    <tr>\n",
       "      <th>max</th>\n",
       "      <td>926.057129</td>\n",
       "      <td>493.751282</td>\n",
       "      <td>960.000000</td>\n",
       "      <td>540.000000</td>\n",
       "      <td>0.901912</td>\n",
       "    </tr>\n",
       "  </tbody>\n",
       "</table>\n",
       "</div>"
      ],
      "text/plain": [
       "              xmin         ymin         xmax         ymax   confidence\n",
       "count  5021.000000  5021.000000  5021.000000  5021.000000  5021.000000\n",
       "mean    374.455001   197.766799   580.789183   317.117364     0.585879\n",
       "std     274.884546    81.227119   271.788520    98.401234     0.168587\n",
       "min       0.000000     0.000000    29.221693    27.773411     0.250019\n",
       "25%     119.565788   146.249435   352.399963   246.475525     0.449159\n",
       "50%     361.889587   189.865311   596.428833   299.797852     0.610979\n",
       "75%     610.058838   242.575684   826.921265   376.172974     0.728731\n",
       "max     926.057129   493.751282   960.000000   540.000000     0.901912"
      ]
     },
     "execution_count": 78,
     "metadata": {},
     "output_type": "execute_result"
    }
   ],
   "source": [
    "final_output.describe()"
   ]
  },
  {
   "cell_type": "code",
   "execution_count": 91,
   "id": "380e5ae8-391b-4c33-a4e1-19d918e70c80",
   "metadata": {},
   "outputs": [
    {
     "name": "stdout",
     "output_type": "stream",
     "text": [
      "output shape: (5256, 8)\n",
      "output images: 2092\n"
     ]
    }
   ],
   "source": [
    "val_output = tesl_low_conf(test_df, final_output, model, 0.001,1)"
   ]
  },
  {
   "cell_type": "code",
   "execution_count": 92,
   "id": "49fad4f9-637c-480a-acbf-f10ac944d98c",
   "metadata": {},
   "outputs": [],
   "source": [
    "val_output.xmax = val_output.xmax.astype(int) \n",
    "val_output.xmin = val_output.xmin.astype(int)  \n",
    "val_output.ymax = val_output.ymax.astype(int) \n",
    "val_output.ymin = val_output.ymin.astype(int) \n",
    "\n",
    "\n",
    "val_output.to_csv('./outputs/val_final_conf_shuffle.csv', index=False, encoding='utf-8-sig')\n",
    "val_output = val_output[['class','image_path','name','xmax','xmin','ymax','ymin']]\n",
    "val_output.to_csv('./outputs/final_results_shuffle.csv', index=False, encoding='utf-8-sig')"
   ]
  },
  {
   "cell_type": "code",
   "execution_count": 93,
   "id": "b402abe0-32d9-4523-8832-7605a538d256",
   "metadata": {},
   "outputs": [],
   "source": [
    "def object_detection(df, path=test_dir, change_width=False, image_path=False):\n",
    "    \n",
    "    if image_path != False:\n",
    "        select_df = df[df.image_path == image_path].reset_index()\n",
    "    else:\n",
    "        df = df.sample(frac=1)\n",
    "        image_path = df.iloc[0].image_path\n",
    "        select_df = df[df.image_path == image_path].reset_index()\n",
    "        \n",
    "    print(image_path)\n",
    "    image = cv2.cvtColor(cv2.imread(os.path.join(path, image_path)), cv2.COLOR_BGR2RGB)\n",
    "    for i in select_df.index:\n",
    "        xmin = select_df.iloc[i].xmin #* 2\n",
    "        ymin = select_df.iloc[i].ymin #* 2\n",
    "        xmax = select_df.iloc[i].xmax #* 2\n",
    "        ymax = select_df.iloc[i].ymax #* 2\n",
    "        label = select_df.iloc[i]['name']\n",
    "        \n",
    "        height = image.shape[0]\n",
    "        width = image.shape[1]\n",
    "        if change_width == True:\n",
    "            width = 960\n",
    "            image = cv2.resize(image, (width, height), interpolation = cv2.INTER_AREA)\n",
    "            xmax = xmax / 2\n",
    "            xmin = xmin / 2\n",
    "\n",
    "        print('class:' , select_df.iloc[i]['name'])\n",
    "        print('xmin:' , xmin)\n",
    "        print('ymin:' , ymin)\n",
    "        print('xmax:' , xmax)\n",
    "        print('ymax:' , ymax)\n",
    "        print('----------------------------')\n",
    "            \n",
    "        cv2.rectangle(image,\n",
    "                      (int(xmin) , int(ymin) ),\n",
    "                      (int(xmax) , int(ymax) ),\n",
    "                      (0,255,0), thickness=2)\n",
    "\n",
    "        ((label_width, label_height), _) = cv2.getTextSize(label, fontFace=cv2.FONT_HERSHEY_PLAIN, \n",
    "        fontScale=1.75, thickness=2)\n",
    "\n",
    "        cv2.rectangle(\n",
    "      image,\n",
    "      (int(xmin) , int(ymin)),\n",
    "      (int(xmin + label_width + label_width * 0.05), int(ymin + label_height + label_height * 0.25)),\n",
    "      color=(255, 0, 0),\n",
    "      thickness=cv2.FILLED\n",
    "    )\n",
    "\n",
    "        cv2.putText(\n",
    "      image,\n",
    "      label,\n",
    "      org=(int(xmin), int(ymin + label_height + label_height * 0.25)), \n",
    "      fontFace=cv2.FONT_HERSHEY_PLAIN,\n",
    "      fontScale=1.75,\n",
    "      color=(255, 255, 255),\n",
    "      thickness=2 )\n",
    "\n",
    "    plt.imshow(image)\n",
    "    plt.show()\n",
    "\n",
    "            \n"
   ]
  }
 ],
 "metadata": {
  "kernelspec": {
   "display_name": "Python 3 (ipykernel)",
   "language": "python",
   "name": "python3"
  },
  "language_info": {
   "codemirror_mode": {
    "name": "ipython",
    "version": 3
   },
   "file_extension": ".py",
   "mimetype": "text/x-python",
   "name": "python",
   "nbconvert_exporter": "python",
   "pygments_lexer": "ipython3",
   "version": "3.9.13"
  }
 },
 "nbformat": 4,
 "nbformat_minor": 5
}
